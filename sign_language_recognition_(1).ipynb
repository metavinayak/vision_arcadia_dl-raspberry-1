{
  "nbformat": 4,
  "nbformat_minor": 0,
  "metadata": {
    "colab": {
      "name": "sign_language_recognition (1).ipynb",
      "provenance": [],
      "collapsed_sections": []
    },
    "language_info": {
      "name": "python"
    },
    "kernelspec": {
      "name": "python3",
      "display_name": "Python 3"
    },
    "accelerator": "GPU"
  },
  "cells": [
    {
      "cell_type": "code",
      "metadata": {
        "id": "M1anDj1UtM-0"
      },
      "source": [
        "# Let's start by importing all the required libraries\n",
        "import os\n",
        "import torch\n",
        "import torchvision\n",
        "import tarfile\n",
        "import torch.nn as nn\n",
        "import numpy as np\n",
        "import matplotlib\n",
        "import torch.nn.functional as F\n",
        "from torchvision.datasets.utils import download_url\n",
        "from torchvision.datasets import ImageFolder\n",
        "from torch.utils.data import DataLoader\n",
        "import torchvision.transforms as tt\n",
        "from torch.utils.data import random_split\n",
        "from torchvision.utils import make_grid\n",
        "import matplotlib.pyplot as plt\n",
        "from zipfile import ZipFile\n",
        "%matplotlib inline\n",
        "\n",
        "# Use a white background for matplotlib figures\n",
        "matplotlib.rcParams['figure.facecolor'] = '#ffffff'"
      ],
      "execution_count": 1,
      "outputs": []
    },
    {
      "cell_type": "code",
      "metadata": {
        "id": "I1bsyLCztM-4"
      },
      "source": [
        "# I have attached the dataset from my google drive where I had a collection of about 5000 colored handmade sign images."
      ],
      "execution_count": 2,
      "outputs": []
    },
    {
      "cell_type": "markdown",
      "metadata": {
        "id": "NYWZ-kfYPhXy"
      },
      "source": [
        "#Preparing Data"
      ]
    },
    {
      "cell_type": "code",
      "metadata": {
        "id": "eQR2ydgPjLto"
      },
      "source": [
        "with ZipFile(\"train.zip\",\"r\") as zip_ref:\n",
        "  zip_ref.extractall(\"data\")"
      ],
      "execution_count": 3,
      "outputs": []
    },
    {
      "cell_type": "code",
      "metadata": {
        "id": "KCWxVoOMtM-7",
        "colab": {
          "base_uri": "https://localhost:8080/"
        },
        "outputId": "b80b9b82-c740-4bc6-c5e8-30ebffc29c36"
      },
      "source": [
        "data_dir = './data'\n",
        "print(os.listdir(data_dir))\n",
        "classes = os.listdir(data_dir + \"/train\")\n",
        "print(classes) "
      ],
      "execution_count": 4,
      "outputs": [
        {
          "output_type": "stream",
          "name": "stdout",
          "text": [
            "['train']\n",
            "['Y', 'G', 'M', 'L', 'Q', 'O', 'F', 'G_invert', 'C', 'B', 'A', 'V']\n"
          ]
        }
      ]
    },
    {
      "cell_type": "code",
      "metadata": {
        "id": "iwxlXh6stM-8"
      },
      "source": [
        "from torchvision.datasets import ImageFolder\n",
        "from torchvision import transforms\n",
        "from torchvision.transforms import ToTensor"
      ],
      "execution_count": 5,
      "outputs": []
    },
    {
      "cell_type": "code",
      "metadata": {
        "id": "pvq0hnwLtM--"
      },
      "source": [
        "# Here for image transformation we are resizing the images to a 64 X 64 pixel format and then turning it to tensor for further processing."
      ],
      "execution_count": 6,
      "outputs": []
    },
    {
      "cell_type": "code",
      "metadata": {
        "id": "x6rIyB64SHuf"
      },
      "source": [
        "dataset = ImageFolder(data_dir+'/train', transform=torchvision.transforms.Compose(\n",
        "        [torchvision.transforms.Resize([64,64]), torchvision.transforms.ToTensor()]))\n"
      ],
      "execution_count": 120,
      "outputs": []
    },
    {
      "cell_type": "code",
      "metadata": {
        "colab": {
          "base_uri": "https://localhost:8080/"
        },
        "id": "VM6YdMi6vkRe",
        "outputId": "357a924c-6ac7-4d53-d25d-a7b9d5900ed2"
      },
      "source": [
        "print(dataset[7212])"
      ],
      "execution_count": 121,
      "outputs": [
        {
          "output_type": "stream",
          "name": "stdout",
          "text": [
            "(tensor([[[0.0667, 0.1569, 0.1608,  ..., 0.1255, 0.1451, 0.1137],\n",
            "         [0.1686, 0.3922, 0.4000,  ..., 0.2549, 0.2667, 0.2000],\n",
            "         [0.2235, 0.5255, 0.5059,  ..., 0.3059, 0.3020, 0.2157],\n",
            "         ...,\n",
            "         [0.0471, 0.1059, 0.1098,  ..., 0.4235, 0.4353, 0.3216],\n",
            "         [0.0510, 0.1137, 0.1020,  ..., 0.4235, 0.4314, 0.3216],\n",
            "         [0.0314, 0.0549, 0.0471,  ..., 0.3098, 0.3098, 0.2314]],\n",
            "\n",
            "        [[0.0784, 0.1725, 0.1725,  ..., 0.1176, 0.1216, 0.0980],\n",
            "         [0.1961, 0.4588, 0.4471,  ..., 0.2196, 0.2235, 0.1843],\n",
            "         [0.2667, 0.6196, 0.6000,  ..., 0.2431, 0.2353, 0.1804],\n",
            "         ...,\n",
            "         [0.0667, 0.1294, 0.1137,  ..., 0.4157, 0.4118, 0.3098],\n",
            "         [0.0588, 0.1137, 0.1059,  ..., 0.4118, 0.4078, 0.3137],\n",
            "         [0.0314, 0.0549, 0.0510,  ..., 0.3216, 0.3176, 0.2431]],\n",
            "\n",
            "        [[0.8471, 0.6941, 0.6863,  ..., 0.6471, 0.6510, 0.7373],\n",
            "         [0.7176, 0.4353, 0.4196,  ..., 0.2353, 0.2471, 0.4196],\n",
            "         [0.7922, 0.6039, 0.5882,  ..., 0.2431, 0.2471, 0.4275],\n",
            "         ...,\n",
            "         [0.6510, 0.2078, 0.1843,  ..., 0.3412, 0.3412, 0.5020],\n",
            "         [0.6039, 0.1490, 0.1333,  ..., 0.3412, 0.3451, 0.4941],\n",
            "         [0.6902, 0.3098, 0.2941,  ..., 0.4902, 0.4980, 0.6078]]]), 10)\n"
          ]
        }
      ]
    },
    {
      "cell_type": "code",
      "metadata": {
        "id": "240WbCMgtM-_"
      },
      "source": [
        "\n",
        "def show_example(img, label):\n",
        "  print('img.shape:', img.shape)\n",
        "  print('Label: ', dataset.classes[label], \"(\"+str(label)+\")\")\n",
        "  plt.imshow(img.permute(1, 2, 0), cmap='gray')"
      ],
      "execution_count": 122,
      "outputs": []
    },
    {
      "cell_type": "code",
      "metadata": {
        "id": "Sc1gDQKmtM_A"
      },
      "source": [
        "#Shown below are some examples of the dataset images."
      ],
      "execution_count": 123,
      "outputs": []
    },
    {
      "cell_type": "code",
      "metadata": {
        "colab": {
          "base_uri": "https://localhost:8080/"
        },
        "id": "fofADvRpskkZ",
        "outputId": "43566aee-5164-42e5-96eb-6bc0aea40560"
      },
      "source": [
        "print(len(dataset))"
      ],
      "execution_count": 124,
      "outputs": [
        {
          "output_type": "stream",
          "name": "stdout",
          "text": [
            "7940\n"
          ]
        }
      ]
    },
    {
      "cell_type": "code",
      "metadata": {
        "id": "sYtYpFFRtM_B",
        "colab": {
          "base_uri": "https://localhost:8080/",
          "height": 302
        },
        "outputId": "c11636be-16e9-4180-c982-e54d9c34e2cf"
      },
      "source": [
        "show_example(*dataset[1184])"
      ],
      "execution_count": 125,
      "outputs": [
        {
          "output_type": "stream",
          "name": "stdout",
          "text": [
            "img.shape: torch.Size([3, 64, 64])\n",
            "Label:  B (1)\n"
          ]
        },
        {
          "output_type": "display_data",
          "data": {
            "image/png": "[encoded data removed]",
            "text/plain": [
              "<Figure size 432x288 with 1 Axes>"
            ]
          },
          "metadata": {
            "needs_background": "light"
          }
        }
      ]
    },
    {
      "cell_type": "code",
      "metadata": {
        "id": "TDcAaphktM_C",
        "colab": {
          "base_uri": "https://localhost:8080/",
          "height": 302
        },
        "outputId": "c7b72ae1-0981-4edc-b668-c655d6ae8c44"
      },
      "source": [
        "show_example(*dataset[140])"
      ],
      "execution_count": 126,
      "outputs": [
        {
          "output_type": "stream",
          "name": "stdout",
          "text": [
            "img.shape: torch.Size([3, 64, 64])\n",
            "Label:  A (0)\n"
          ]
        },
        {
          "output_type": "display_data",
          "data": {
            "image/png": "[encoded data removed]",
            "text/plain": [
              "<Figure size 432x288 with 1 Axes>"
            ]
          },
          "metadata": {
            "needs_background": "light"
          }
        }
      ]
    },
    {
      "cell_type": "code",
      "metadata": {
        "id": "bAMm1LxftM_C"
      },
      "source": [
        "# Now we divide the dataset into training and validation set. I have taken about 5 percent of the dataset into validation."
      ],
      "execution_count": 127,
      "outputs": []
    },
    {
      "cell_type": "code",
      "metadata": {
        "id": "aqalsk1GtM_D",
        "colab": {
          "base_uri": "https://localhost:8080/"
        },
        "outputId": "04a01c7a-f937-4a9a-9522-60c859609a3c"
      },
      "source": [
        "val_size = int(0.05*len(dataset))\n",
        "train_size = len(dataset) - val_size\n",
        "\n",
        "train_ds, val_ds = random_split(dataset, [train_size, val_size])\n",
        "len(train_ds), len(val_ds)"
      ],
      "execution_count": 128,
      "outputs": [
        {
          "output_type": "execute_result",
          "data": {
            "text/plain": [
              "(7543, 397)"
            ]
          },
          "metadata": {},
          "execution_count": 128
        }
      ]
    },
    {
      "cell_type": "code",
      "metadata": {
        "id": "zdYHeW0stM_F"
      },
      "source": [
        "random_seed = 120\n",
        "torch.manual_seed(random_seed);"
      ],
      "execution_count": 129,
      "outputs": []
    },
    {
      "cell_type": "code",
      "metadata": {
        "id": "pqohURRztM_G"
      },
      "source": [
        "# Now from the training dataset, we take out 50 images for testing purposes."
      ],
      "execution_count": 130,
      "outputs": []
    },
    {
      "cell_type": "code",
      "metadata": {
        "id": "EPos7QeZtM_H",
        "colab": {
          "base_uri": "https://localhost:8080/"
        },
        "outputId": "82216b74-da87-4728-afc7-97a71c715267"
      },
      "source": [
        "print(train_size)\n",
        "test_size=50\n",
        "train_size = len(train_ds) - test_size\n",
        "\n",
        "train_ds, test_ds = random_split(train_ds, [train_size, test_size])\n",
        "len(train_ds), len(test_ds)"
      ],
      "execution_count": 131,
      "outputs": [
        {
          "output_type": "stream",
          "name": "stdout",
          "text": [
            "7543\n"
          ]
        },
        {
          "output_type": "execute_result",
          "data": {
            "text/plain": [
              "(7493, 50)"
            ]
          },
          "metadata": {},
          "execution_count": 131
        }
      ]
    },
    {
      "cell_type": "code",
      "metadata": {
        "colab": {
          "base_uri": "https://localhost:8080/",
          "height": 302
        },
        "id": "wzIG0a0YQ7aD",
        "outputId": "358f34bf-d035-4a3a-efae-15c332e7f2ec"
      },
      "source": [
        "show_example(*test_ds[0])"
      ],
      "execution_count": 132,
      "outputs": [
        {
          "output_type": "stream",
          "name": "stdout",
          "text": [
            "img.shape: torch.Size([3, 64, 64])\n",
            "Label:  O (8)\n"
          ]
        },
        {
          "output_type": "display_data",
          "data": {
            "image/png": "[encoded data removed]",
            "text/plain": [
              "<Figure size 432x288 with 1 Axes>"
            ]
          },
          "metadata": {
            "needs_background": "light"
          }
        }
      ]
    },
    {
      "cell_type": "code",
      "metadata": {
        "id": "TpnTJWpFtM_I"
      },
      "source": [
        "from torch.utils.data.dataloader import DataLoader\n",
        "batch_size=128"
      ],
      "execution_count": 133,
      "outputs": []
    },
    {
      "cell_type": "code",
      "metadata": {
        "id": "DV3eWiWOtM_J",
        "colab": {
          "base_uri": "https://localhost:8080/"
        },
        "outputId": "c7b1b98d-07b7-4b73-e5db-782cbcc4ab1a"
      },
      "source": [
        "train_dl = DataLoader(train_ds, batch_size, shuffle=True, num_workers=4, pin_memory=True)\n",
        "val_dl = DataLoader(val_ds, batch_size*2, num_workers=4, pin_memory=True)"
      ],
      "execution_count": 134,
      "outputs": [
        {
          "output_type": "stream",
          "name": "stderr",
          "text": [
            "/usr/local/lib/python3.7/dist-packages/torch/utils/data/dataloader.py:481: UserWarning: This DataLoader will create 4 worker processes in total. Our suggested max number of worker in current system is 2, which is smaller than what this DataLoader is going to create. Please be aware that excessive worker creation might get DataLoader running slow or even freeze, lower the worker number to avoid potential slowness/freeze if necessary.\n",
            "  cpuset_checked))\n"
          ]
        }
      ]
    },
    {
      "cell_type": "code",
      "metadata": {
        "id": "KAL481_utM_M"
      },
      "source": [
        "# After the data has been loaded by the dataloader, we define some functions for accuracy and image classification."
      ],
      "execution_count": 135,
      "outputs": []
    },
    {
      "cell_type": "code",
      "metadata": {
        "id": "7cBStQ3mtM_M"
      },
      "source": [
        "def accuracy(outputs, labels):\n",
        "    _, preds = torch.max(outputs, dim=1)\n",
        "    return torch.tensor(torch.sum(preds == labels).item() / len(preds))\n",
        "\n",
        "class ImageClassificationBase(nn.Module):\n",
        "    def training_step(self, batch):\n",
        "        images, labels = batch \n",
        "        out = self(images)                  # Generate predictions\n",
        "        loss = F.cross_entropy(out, labels) # Calculate loss\n",
        "        return loss\n",
        "    \n",
        "    def validation_step(self, batch):\n",
        "        images, labels = batch \n",
        "        out = self(images)                    # Generate predictions\n",
        "        loss = F.cross_entropy(out, labels)   # Calculate loss\n",
        "        acc = accuracy(out, labels)           # Calculate accuracy\n",
        "        return {'val_loss': loss.detach(), 'val_acc': acc}\n",
        "        \n",
        "    def validation_epoch_end(self, outputs):\n",
        "        batch_losses = [x['val_loss'] for x in outputs]\n",
        "        epoch_loss = torch.stack(batch_losses).mean()   # Combine losses\n",
        "        batch_accs = [x['val_acc'] for x in outputs]\n",
        "        epoch_acc = torch.stack(batch_accs).mean()      # Combine accuracies\n",
        "        return {'val_loss': epoch_loss.item(), 'val_acc': epoch_acc.item()}\n",
        "    \n",
        "    def epoch_end(self, epoch, result):\n",
        "        print(\"Epoch [{}], train_loss: {:.4f}, val_loss: {:.4f}, val_acc: {:.4f}\".format(\n",
        "            epoch, result['train_loss'], result['val_loss'], result['val_acc']))"
      ],
      "execution_count": 136,
      "outputs": []
    },
    {
      "cell_type": "code",
      "metadata": {
        "id": "6hHOMyCBtM_N"
      },
      "source": [
        "# Shown below is the model used. We have 4 convolutional layers each followed by the RELU i.e. Rectified Linear Unit and Max Pooling Layer to train on 4765 images.\n"
      ],
      "execution_count": 137,
      "outputs": []
    },
    {
      "cell_type": "code",
      "metadata": {
        "id": "TL90diZ9tM_N"
      },
      "source": [
        "class SignLangCnnModel(ImageClassificationBase):\n",
        "    def __init__(self):\n",
        "        super().__init__()\n",
        "        self.network = nn.Sequential(\n",
        "            nn.Conv2d(3, 32, kernel_size=3, padding=1),\n",
        "            nn.ReLU(),\n",
        "            nn.Conv2d(32, 64, kernel_size=3, stride=1, padding=1),\n",
        "            nn.ReLU(),\n",
        "            nn.MaxPool2d(2, 2), # output: 64 x 32X32\n",
        "\n",
        "            nn.Conv2d(64, 128, kernel_size=3, stride=1, padding=1),\n",
        "            nn.ReLU(),\n",
        "            nn.Conv2d(128, 128, kernel_size=3, stride=1, padding=1),\n",
        "            nn.ReLU(),\n",
        "            nn.MaxPool2d(2, 2), # output: 128 x 16 x 16\n",
        "\n",
        "            nn.Conv2d(128, 256, kernel_size=3, stride=1, padding=1),\n",
        "            nn.ReLU(),\n",
        "            nn.Conv2d(256, 256, kernel_size=3, stride=1, padding=1),\n",
        "            nn.ReLU(),\n",
        "            nn.MaxPool2d(2, 2), # output: 256 x 8 x 8\n",
        "\n",
        "            nn.Flatten(), \n",
        "            nn.Linear(16384, 8192),\n",
        "            nn.ReLU(),\n",
        "            nn.Linear(8192, 1024),\n",
        "            nn.ReLU(),\n",
        "            nn.Linear(1024, 24))\n",
        "        \n",
        "    def forward(self, xb):\n",
        "        return self.network(xb)"
      ],
      "execution_count": 138,
      "outputs": []
    },
    {
      "cell_type": "code",
      "metadata": {
        "id": "Jmlg-3DttM_O",
        "colab": {
          "base_uri": "https://localhost:8080/"
        },
        "outputId": "0eebdd84-bc38-4898-dae4-0465e8a1dc42"
      },
      "source": [
        "model = SignLangCnnModel()\n",
        "model"
      ],
      "execution_count": 139,
      "outputs": [
        {
          "output_type": "execute_result",
          "data": {
            "text/plain": [
              "SignLangCnnModel(\n",
              "  (network): Sequential(\n",
              "    (0): Conv2d(3, 32, kernel_size=(3, 3), stride=(1, 1), padding=(1, 1))\n",
              "    (1): ReLU()\n",
              "    (2): Conv2d(32, 64, kernel_size=(3, 3), stride=(1, 1), padding=(1, 1))\n",
              "    (3): ReLU()\n",
              "    (4): MaxPool2d(kernel_size=2, stride=2, padding=0, dilation=1, ceil_mode=False)\n",
              "    (5): Conv2d(64, 128, kernel_size=(3, 3), stride=(1, 1), padding=(1, 1))\n",
              "    (6): ReLU()\n",
              "    (7): Conv2d(128, 128, kernel_size=(3, 3), stride=(1, 1), padding=(1, 1))\n",
              "    (8): ReLU()\n",
              "    (9): MaxPool2d(kernel_size=2, stride=2, padding=0, dilation=1, ceil_mode=False)\n",
              "    (10): Conv2d(128, 256, kernel_size=(3, 3), stride=(1, 1), padding=(1, 1))\n",
              "    (11): ReLU()\n",
              "    (12): Conv2d(256, 256, kernel_size=(3, 3), stride=(1, 1), padding=(1, 1))\n",
              "    (13): ReLU()\n",
              "    (14): MaxPool2d(kernel_size=2, stride=2, padding=0, dilation=1, ceil_mode=False)\n",
              "    (15): Flatten(start_dim=1, end_dim=-1)\n",
              "    (16): Linear(in_features=16384, out_features=8192, bias=True)\n",
              "    (17): ReLU()\n",
              "    (18): Linear(in_features=8192, out_features=1024, bias=True)\n",
              "    (19): ReLU()\n",
              "    (20): Linear(in_features=1024, out_features=24, bias=True)\n",
              "  )\n",
              ")"
            ]
          },
          "metadata": {},
          "execution_count": 139
        }
      ]
    },
    {
      "cell_type": "code",
      "metadata": {
        "id": "0Gyph-BgtM_P",
        "colab": {
          "base_uri": "https://localhost:8080/"
        },
        "outputId": "2285120f-ead5-4ad7-8a3b-594054fa69da"
      },
      "source": [
        "for images, labels in train_dl:\n",
        "    print('images.shape:', images.shape)\n",
        "    out = model(images)\n",
        "    print('out.shape:', out.shape)\n",
        "    print('out[0]:', out[0])\n",
        "    break"
      ],
      "execution_count": 140,
      "outputs": [
        {
          "output_type": "stream",
          "name": "stderr",
          "text": [
            "/usr/local/lib/python3.7/dist-packages/torch/utils/data/dataloader.py:481: UserWarning: This DataLoader will create 4 worker processes in total. Our suggested max number of worker in current system is 2, which is smaller than what this DataLoader is going to create. Please be aware that excessive worker creation might get DataLoader running slow or even freeze, lower the worker number to avoid potential slowness/freeze if necessary.\n",
            "  cpuset_checked))\n"
          ]
        },
        {
          "output_type": "stream",
          "name": "stdout",
          "text": [
            "images.shape: torch.Size([128, 3, 64, 64])\n",
            "out.shape: torch.Size([128, 24])\n",
            "out[0]: tensor([-0.0120,  0.0170,  0.0238, -0.0095,  0.0183, -0.0278,  0.0294,  0.0309,\n",
            "        -0.0143, -0.0118, -0.0049,  0.0158,  0.0089, -0.0189,  0.0227,  0.0048,\n",
            "        -0.0140,  0.0203, -0.0100, -0.0212, -0.0125, -0.0033,  0.0196, -0.0283],\n",
            "       grad_fn=<SelectBackward>)\n"
          ]
        }
      ]
    },
    {
      "cell_type": "code",
      "metadata": {
        "id": "DELNzWSztM_P"
      },
      "source": [
        "import torch\n",
        "\n",
        "def get_default_device():\n",
        "    \"\"\"Pick GPU if available, else CPU\"\"\"\n",
        "    if torch.cuda.is_available():\n",
        "        return torch.device('cuda')\n",
        "    else:\n",
        "        return torch.device('cpu')\n",
        "    \n",
        "def to_device(data, device):\n",
        "    \"\"\"Move tensor(s) to chosen device\"\"\"\n",
        "    if isinstance(data, (list,tuple)):\n",
        "        return [to_device(x, device) for x in data]\n",
        "    return data.to(device, non_blocking=True)\n",
        "\n",
        "class DeviceDataLoader():\n",
        "    \"\"\"Wrap a dataloader to move data to a device\"\"\"\n",
        "    def __init__(self, dl, device):\n",
        "        self.dl = dl\n",
        "        self.device = device\n",
        "        \n",
        "    def __iter__(self):\n",
        "        \"\"\"Yield a batch of data after moving it to device\"\"\"\n",
        "        for b in self.dl: \n",
        "            yield to_device(b, self.device)\n",
        "\n",
        "    def __len__(self):\n",
        "        \"\"\"Number of batches\"\"\"\n",
        "        return len(self.dl)"
      ],
      "execution_count": 141,
      "outputs": []
    },
    {
      "cell_type": "code",
      "metadata": {
        "id": "csr3Hx9ftM_Q"
      },
      "source": [
        "# It's better to use a GPU if available to save time on training the model."
      ],
      "execution_count": 142,
      "outputs": []
    },
    {
      "cell_type": "code",
      "metadata": {
        "id": "BosvNLvttM_Q",
        "colab": {
          "base_uri": "https://localhost:8080/"
        },
        "outputId": "e85edd41-f722-4e33-cc62-b40514641558"
      },
      "source": [
        "device = get_default_device()\n",
        "device"
      ],
      "execution_count": 143,
      "outputs": [
        {
          "output_type": "execute_result",
          "data": {
            "text/plain": [
              "device(type='cuda')"
            ]
          },
          "metadata": {},
          "execution_count": 143
        }
      ]
    },
    {
      "cell_type": "code",
      "metadata": {
        "id": "60E4jZ4GtM_e"
      },
      "source": [
        "train_dl = DeviceDataLoader(train_dl, device)\n",
        "val_dl = DeviceDataLoader(val_dl, device)\n",
        "to_device(model, device);"
      ],
      "execution_count": 144,
      "outputs": []
    },
    {
      "cell_type": "code",
      "metadata": {
        "id": "UzelmSHktM_f"
      },
      "source": [
        "def evaluate(model, val_loader):\n",
        "    model.eval()\n",
        "    outputs = [model.validation_step(batch) for batch in val_loader]\n",
        "    return model.validation_epoch_end(outputs)\n",
        "\n",
        "def fit(epochs, lr, model, train_loader, val_loader, opt_func=torch.optim.SGD):\n",
        "    history = []\n",
        "    optimizer = opt_func(model.parameters(), lr)\n",
        "    for epoch in range(epochs):\n",
        "        # Training Phase \n",
        "        model.train()\n",
        "        train_losses = []\n",
        "        for batch in train_loader:\n",
        "            loss = model.training_step(batch)\n",
        "            train_losses.append(loss)\n",
        "            loss.backward()\n",
        "            optimizer.step()\n",
        "            optimizer.zero_grad()\n",
        "        # Validation phase\n",
        "        result = evaluate(model, val_loader)\n",
        "        result['train_loss'] = torch.stack(train_losses).mean().item()\n",
        "        model.epoch_end(epoch, result)\n",
        "        history.append(result)\n",
        "    return history"
      ],
      "execution_count": 145,
      "outputs": []
    },
    {
      "cell_type": "code",
      "metadata": {
        "id": "E0Mj-v5GtM_f"
      },
      "source": [
        "# After defining all the functions and classes we now train the model for 7 epochs and a learning rate (lr) of 0.0001 and analyse the results."
      ],
      "execution_count": 146,
      "outputs": []
    },
    {
      "cell_type": "code",
      "metadata": {
        "id": "YzLlO5altM_g"
      },
      "source": [
        "num_epochs =7\n",
        "opt_func = torch.optim.Adam\n",
        "lr = 0.001"
      ],
      "execution_count": 153,
      "outputs": []
    },
    {
      "cell_type": "code",
      "metadata": {
        "id": "BspFEflytM_h",
        "colab": {
          "base_uri": "https://localhost:8080/"
        },
        "outputId": "ffeea119-7f12-4359-9f4e-4ed91ae2c4ed"
      },
      "source": [
        "evaluate(model, val_dl)"
      ],
      "execution_count": 154,
      "outputs": [
        {
          "output_type": "stream",
          "name": "stderr",
          "text": [
            "/usr/local/lib/python3.7/dist-packages/torch/utils/data/dataloader.py:481: UserWarning: This DataLoader will create 4 worker processes in total. Our suggested max number of worker in current system is 2, which is smaller than what this DataLoader is going to create. Please be aware that excessive worker creation might get DataLoader running slow or even freeze, lower the worker number to avoid potential slowness/freeze if necessary.\n",
            "  cpuset_checked))\n"
          ]
        },
        {
          "output_type": "execute_result",
          "data": {
            "text/plain": [
              "{'val_acc': 0.840827226638794, 'val_loss': 0.44330453872680664}"
            ]
          },
          "metadata": {},
          "execution_count": 154
        }
      ]
    },
    {
      "cell_type": "code",
      "metadata": {
        "id": "eal9It7AtM_h",
        "colab": {
          "base_uri": "https://localhost:8080/"
        },
        "outputId": "3a6212e7-508c-4096-8b0f-4c948c006c98"
      },
      "source": [
        "history = fit(num_epochs, lr, model, train_dl, val_dl, opt_func)"
      ],
      "execution_count": 155,
      "outputs": [
        {
          "output_type": "stream",
          "name": "stderr",
          "text": [
            "/usr/local/lib/python3.7/dist-packages/torch/utils/data/dataloader.py:481: UserWarning: This DataLoader will create 4 worker processes in total. Our suggested max number of worker in current system is 2, which is smaller than what this DataLoader is going to create. Please be aware that excessive worker creation might get DataLoader running slow or even freeze, lower the worker number to avoid potential slowness/freeze if necessary.\n",
            "  cpuset_checked))\n"
          ]
        },
        {
          "output_type": "stream",
          "name": "stdout",
          "text": [
            "Epoch [0], train_loss: 3.6820, val_loss: 1.3271, val_acc: 0.5076\n",
            "Epoch [1], train_loss: 0.8386, val_loss: 0.6505, val_acc: 0.7805\n",
            "Epoch [2], train_loss: 0.3908, val_loss: 0.4297, val_acc: 0.8499\n",
            "Epoch [3], train_loss: 0.2017, val_loss: 0.1836, val_acc: 0.9455\n",
            "Epoch [4], train_loss: 0.1093, val_loss: 0.1476, val_acc: 0.9601\n",
            "Epoch [5], train_loss: 0.0647, val_loss: 0.1710, val_acc: 0.9423\n",
            "Epoch [6], train_loss: 0.0524, val_loss: 0.0772, val_acc: 0.9757\n"
          ]
        }
      ]
    },
    {
      "cell_type": "code",
      "metadata": {
        "id": "sTpmEQOdtM_i"
      },
      "source": [
        "#As can be seen in the cell above, the model reached about 99.6 % accuracy after which it decreased and came to 97 percent."
      ],
      "execution_count": 156,
      "outputs": []
    },
    {
      "cell_type": "code",
      "metadata": {
        "id": "QaGkv6nTtM_j",
        "colab": {
          "base_uri": "https://localhost:8080/",
          "height": 295
        },
        "outputId": "76376353-34c7-4b43-d889-09f0f33f5d43"
      },
      "source": [
        "def plot_accuracies(history):\n",
        "    accuracies = [x['val_acc'] for x in history]\n",
        "    plt.plot(accuracies, '-x')\n",
        "    plt.xlabel('epoch')\n",
        "    plt.ylabel('accuracy')\n",
        "    plt.title('Accuracy vs. No. of epochs');\n",
        "plot_accuracies(history)"
      ],
      "execution_count": 157,
      "outputs": [
        {
          "output_type": "display_data",
          "data": {
            "image/png": "[encoded data removed]",
            "text/plain": [
              "<Figure size 432x288 with 1 Axes>"
            ]
          },
          "metadata": {
            "needs_background": "light"
          }
        }
      ]
    },
    {
      "cell_type": "code",
      "metadata": {
        "id": "VgAiaAxctM_j"
      },
      "source": [
        "def plot_losses(history):\n",
        "    train_losses = [x.get('train_loss') for x in history]\n",
        "    val_losses = [x['val_loss'] for x in history]\n",
        "    plt.plot(train_losses, '-bx')\n",
        "    plt.plot(val_losses, '-rx')\n",
        "    plt.xlabel('epoch')\n",
        "    plt.ylabel('loss')\n",
        "    plt.legend(['Training', 'Validation'])\n",
        "    plt.title('Loss vs. No. of epochs');"
      ],
      "execution_count": 158,
      "outputs": []
    },
    {
      "cell_type": "code",
      "metadata": {
        "id": "x8m_X8BjtM_k",
        "colab": {
          "base_uri": "https://localhost:8080/",
          "height": 295
        },
        "outputId": "d219f9f2-db65-41f7-a14f-466adb845914"
      },
      "source": [
        "plot_losses(history)"
      ],
      "execution_count": 159,
      "outputs": [
        {
          "output_type": "display_data",
          "data": {
            "image/png": "[encoded data removed]",
            "text/plain": [
              "<Figure size 432x288 with 1 Axes>"
            ]
          },
          "metadata": {
            "needs_background": "light"
          }
        }
      ]
    },
    {
      "cell_type": "code",
      "metadata": {
        "id": "7LIXsDEvtM_k"
      },
      "source": [
        "#After all the plots have been plotted and we got an idea of our model performance, we save the metrics along with the model."
      ],
      "execution_count": 160,
      "outputs": []
    },
    {
      "cell_type": "code",
      "metadata": {
        "id": "lk6p9JLYtM_m"
      },
      "source": [
        "# It's time to test our efforts now. I made a function that takes an image and gives us the classification using the model we just trained."
      ],
      "execution_count": 161,
      "outputs": []
    },
    {
      "cell_type": "code",
      "metadata": {
        "id": "qVeuCbjvtM_m"
      },
      "source": [
        "import torch.nn.functional as F\n",
        "def predict_image(img, model):\n",
        "    # Convert to a batch of 1\n",
        "    xb = to_device(img.unsqueeze(0), device)\n",
        "    # Get predictions from model\n",
        "    yb = model(xb)\n",
        "    # Apply softmax for each output row\n",
        "    probs = F.softmax(yb, dim=1)\n",
        "    print(\"Confidence (%) :\",torch.max(probs).item()*100)\n",
        "    # Pick index with highest probability\n",
        "    _, preds  = torch.max(yb, dim=1)\n",
        "    # Retrieve the class label\n",
        "    return dataset.classes[preds[0].item()]"
      ],
      "execution_count": 226,
      "outputs": []
    },
    {
      "cell_type": "code",
      "metadata": {
        "id": "x6bXW9oHEbij",
        "colab": {
          "base_uri": "https://localhost:8080/"
        },
        "outputId": "046951c0-08ce-4f7e-bde7-d97296774ccd"
      },
      "source": [
        "dataset.classes"
      ],
      "execution_count": 174,
      "outputs": [
        {
          "output_type": "execute_result",
          "data": {
            "text/plain": [
              "['A', 'B', 'C', 'F', 'G', 'G_invert', 'L', 'M', 'O', 'Q', 'V', 'Y']"
            ]
          },
          "metadata": {},
          "execution_count": 174
        }
      ]
    },
    {
      "cell_type": "code",
      "metadata": {
        "id": "6BmAaddPtM_n",
        "colab": {
          "base_uri": "https://localhost:8080/",
          "height": 302
        },
        "outputId": "706a558b-acc7-42c3-c60b-ad413074e3e9"
      },
      "source": [
        "img, label = test_ds[0]\n",
        "plt.imshow(img[0])\n",
        "print('Label:', dataset.classes[label], ', Predicted:', predict_image(img, model))"
      ],
      "execution_count": 228,
      "outputs": [
        {
          "output_type": "stream",
          "name": "stdout",
          "text": [
            "Confidence (%) : 99.65699911117554\n",
            "Label: O , Predicted: O\n"
          ]
        },
        {
          "output_type": "display_data",
          "data": {
            "image/png": "[encoded data removed]",
            "text/plain": [
              "<Figure size 432x288 with 1 Axes>"
            ]
          },
          "metadata": {
            "needs_background": "light"
          }
        }
      ]
    },
    {
      "cell_type": "code",
      "metadata": {
        "id": "wxC4KUKMtM_p",
        "colab": {
          "base_uri": "https://localhost:8080/",
          "height": 302
        },
        "outputId": "ec2f9ccb-cc0f-4f58-c805-0394ea943497"
      },
      "source": [
        "img, label = test_ds[3]\n",
        "plt.imshow(img[0])\n",
        "print('Label:', dataset.classes[label], ', Predicted:', predict_image(img, model))"
      ],
      "execution_count": 229,
      "outputs": [
        {
          "output_type": "stream",
          "name": "stdout",
          "text": [
            "Confidence (%) : 88.35586309432983\n",
            "Label: A , Predicted: A\n"
          ]
        },
        {
          "output_type": "display_data",
          "data": {
            "image/png": "[encoded data removed]",
            "text/plain": [
              "<Figure size 432x288 with 1 Axes>"
            ]
          },
          "metadata": {
            "needs_background": "light"
          }
        }
      ]
    },
    {
      "cell_type": "code",
      "metadata": {
        "id": "gcE64Mx9tM_r",
        "colab": {
          "base_uri": "https://localhost:8080/",
          "height": 302
        },
        "outputId": "80c8dd75-c3b0-4e14-a0aa-ce1f71307abf"
      },
      "source": [
        "img, label = test_ds[26]\n",
        "plt.imshow(img[0])\n",
        "print('Label:', dataset.classes[label], ', Predicted:', predict_image(img, model))"
      ],
      "execution_count": 230,
      "outputs": [
        {
          "output_type": "stream",
          "name": "stdout",
          "text": [
            "Confidence (%) : 99.99432563781738\n",
            "Label: L , Predicted: L\n"
          ]
        },
        {
          "output_type": "display_data",
          "data": {
            "image/png": "[encoded data removed]",
            "text/plain": [
              "<Figure size 432x288 with 1 Axes>"
            ]
          },
          "metadata": {
            "needs_background": "light"
          }
        }
      ]
    },
    {
      "cell_type": "code",
      "metadata": {
        "colab": {
          "base_uri": "https://localhost:8080/"
        },
        "id": "ac2U5_r9Xn4Z",
        "outputId": "b868f20e-a18e-477a-e691-50127cfd8fd2"
      },
      "source": [
        "# Imports PIL module \n",
        "from PIL import Image\n",
        "\n",
        "img=Image.open(\"frame359.jpg\")\n",
        " \n",
        "# intial dimension\n",
        "img=np.array(img)\n",
        "print(\"Initial dimensions: \",img.shape)\n",
        "\n",
        " # transforming to tensor\n",
        "from torchvision import transforms\n",
        "tr=transforms.ToTensor()\n",
        "img_tensor=tr(img)\n",
        "\n",
        " # resizing tensor\n",
        "resize_tensor=transforms.Resize([64,64])\n",
        "img_tensor=resize_tensor(img_tensor)\n",
        "print(\"Final shape of tensor: \",img_tensor.shape)"
      ],
      "execution_count": 237,
      "outputs": [
        {
          "output_type": "stream",
          "name": "stdout",
          "text": [
            "Initial dimensions:  (480, 640, 3)\n",
            "Final shape of tensor:  torch.Size([3, 64, 64])\n"
          ]
        }
      ]
    },
    {
      "cell_type": "code",
      "metadata": {
        "colab": {
          "base_uri": "https://localhost:8080/",
          "height": 285
        },
        "id": "_h72VUE0Zjxa",
        "outputId": "1bd9b74e-826a-4e53-a0b7-904b16d4c7b5"
      },
      "source": [
        "plt.imshow(img_tensor[0])"
      ],
      "execution_count": 238,
      "outputs": [
        {
          "output_type": "execute_result",
          "data": {
            "text/plain": [
              "<matplotlib.image.AxesImage at 0x7f053ee11610>"
            ]
          },
          "metadata": {},
          "execution_count": 238
        },
        {
          "output_type": "display_data",
          "data": {
            "image/png": "[encoded data removed]",
            "text/plain": [
              "<Figure size 432x288 with 1 Axes>"
            ]
          },
          "metadata": {
            "needs_background": "light"
          }
        }
      ]
    },
    {
      "cell_type": "code",
      "metadata": {
        "colab": {
          "base_uri": "https://localhost:8080/"
        },
        "id": "c4YnJijfXz1a",
        "outputId": "3bb82332-9c34-4df3-b82f-eb8e55f50178"
      },
      "source": [
        "print(\" Predicted: \",predict_image(img_tensor,model))"
      ],
      "execution_count": 239,
      "outputs": [
        {
          "output_type": "stream",
          "name": "stdout",
          "text": [
            "Confidence (%) : 96.2763249874115\n",
            " Predicted:  G_invert\n"
          ]
        }
      ]
    },
    {
      "cell_type": "code",
      "metadata": {
        "id": "9UFw6pe3tM_t",
        "colab": {
          "base_uri": "https://localhost:8080/"
        },
        "outputId": "af9a602f-136d-4e14-e545-f28dba044685"
      },
      "source": [
        "test_loader = DeviceDataLoader(DataLoader(test_ds, batch_size*2), device)\n",
        "result = evaluate(model, test_loader)\n",
        "result"
      ],
      "execution_count": 186,
      "outputs": [
        {
          "output_type": "execute_result",
          "data": {
            "text/plain": [
              "{'val_acc': 0.9800000190734863, 'val_loss': 0.056217409670352936}"
            ]
          },
          "metadata": {},
          "execution_count": 186
        }
      ]
    },
    {
      "cell_type": "code",
      "metadata": {
        "id": "B6CTiI-StM_x"
      },
      "source": [
        "# So far so good, we have a test set accuracy of 98% and all the images I randomly predicted came right. As this parameters gave us very impressive results, we must log the metrics."
      ],
      "execution_count": null,
      "outputs": []
    },
    {
      "cell_type": "markdown",
      "metadata": {
        "id": "ute761YjKGRe"
      },
      "source": [
        "## Save and upload"
      ]
    },
    {
      "cell_type": "code",
      "metadata": {
        "id": "90f3fco0KFx_"
      },
      "source": [
        "saved_weights_fname='sign-recognition.pth'"
      ],
      "execution_count": 240,
      "outputs": []
    },
    {
      "cell_type": "code",
      "metadata": {
        "id": "NRyP3NqDtM_z"
      },
      "source": [
        "torch.save(model.state_dict(), saved_weights_fname)"
      ],
      "execution_count": null,
      "outputs": []
    },
    {
      "cell_type": "code",
      "metadata": {
        "id": "oTczNckSPANG"
      },
      "source": [
        ""
      ],
      "execution_count": null,
      "outputs": []
    }
  ]
}