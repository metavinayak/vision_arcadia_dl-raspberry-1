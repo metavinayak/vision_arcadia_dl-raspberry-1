{
  "nbformat": 4,
  "nbformat_minor": 2,
  "metadata": {
    "accelerator": "GPU",
    "colab": {
      "name": "Hand_gestures_recognise.ipynb",
      "provenance": [],
      "collapsed_sections": []
    },
    "kernelspec": {
      "display_name": "Python 3",
      "language": "python",
      "name": "python3"
    },
    "language_info": {
      "codemirror_mode": {
        "name": "ipython",
        "version": 3
      },
      "file_extension": ".py",
      "mimetype": "text/x-python",
      "name": "python",
      "nbconvert_exporter": "python",
      "pygments_lexer": "ipython3",
      "version": "3.8.10"
    }
  },
  "cells": [
    {
      "cell_type": "markdown",
      "source": [
        "#Preparing Data"
      ],
      "metadata": {
        "id": "NYWZ-kfYPhXy"
      }
    },
    {
      "cell_type": "code",
      "execution_count": 1,
      "source": [
        "from zipfile import ZipFile\r\n",
        "with ZipFile(\"data.zip\",\"r\") as zip_ref:\r\n",
        "  zip_ref.extractall(\"data\")"
      ],
      "outputs": [],
      "metadata": {
        "id": "eQR2ydgPjLto"
      }
    },
    {
      "cell_type": "code",
      "execution_count": 2,
      "source": [
        "import numpy as np\r\n",
        "np.random.seed(5) \r\n",
        "import tensorflow as tf\r\n",
        "#tf.set_random_seed(2)\r\n",
        "import matplotlib.pyplot as plt\r\n",
        "%matplotlib inline\r\n",
        "import os\r\n",
        "import cv2\r\n",
        "import keras\r\n",
        "from sklearn.model_selection import train_test_split\r\n",
        "\r\n",
        "train_dir = 'data/data/train'\r\n",
        "eval_dir = 'data/data/test'\r\n",
        "\r\n",
        "\r\n",
        "#2. Loading the data\r\n",
        "#Helper function to load images from given directories\r\n",
        "def load_images(directory,uniq_labels):\r\n",
        "    images = []\r\n",
        "    labels = []\r\n",
        "    for idx, label in enumerate(uniq_labels):\r\n",
        "        if (len(uniq_labels)>1):\r\n",
        "            for file in os.listdir(directory + \"/\" + label):\r\n",
        "                filepath = directory + \"/\" + label + \"/\" + file\r\n",
        "                #image = cv2.resize(cv2.imread(filepath), (64, 64))\r\n",
        "                image = cv2.imdecode(np.fromfile(filepath, dtype=np.uint8), cv2.IMREAD_UNCHANGED)\r\n",
        "                image = cv2.cvtColor(image, cv2.COLOR_BGR2GRAY)\r\n",
        "                image = cv2.resize(image, (64, 64))\r\n",
        "                images.append(image)\r\n",
        "                labels.append(idx)\r\n",
        "        else:\r\n",
        "            filepath = directory + \"/\" + label \r\n",
        "            #image = cv2.resize(cv2.imread(filepath), (64, 64))\r\n",
        "            image = cv2.imdecode(np.fromfile(filepath, dtype=np.uint8), cv2.IMREAD_UNCHANGED)\r\n",
        "            image = cv2.cvtColor(image, cv2.COLOR_BGR2GRAY)\r\n",
        "            image = cv2.resize(image, (64, 64))\r\n",
        "            images.append(image)\r\n",
        "            labels.append(idx)\r\n",
        "    images = np.array(images)\r\n",
        "    labels = np.array(labels)\r\n",
        "    return(images, labels)"
      ],
      "outputs": [],
      "metadata": {
        "id": "nRrf2UIiCXj3"
      }
    },
    {
      "cell_type": "code",
      "execution_count": 3,
      "source": [
        "CATEGORIES = sorted(os.listdir(train_dir))\n",
        "#read images in train folder\n",
        "images, labels = load_images(directory = train_dir, uniq_labels = CATEGORIES)\n",
        "#read images in test folder\n"
      ],
      "outputs": [],
      "metadata": {
        "id": "KCWxVoOMtM-7"
      }
    },
    {
      "cell_type": "code",
      "execution_count": 27,
      "source": [
        "CATEGORIES"
      ],
      "outputs": [
        {
          "output_type": "execute_result",
          "data": {
            "text/plain": [
              "['A', 'B', 'C', 'F', 'G', 'L', 'M', 'O', 'Q', 'V', 'Y', 'nothing']"
            ]
          },
          "metadata": {},
          "execution_count": 27
        }
      ],
      "metadata": {
        "colab": {
          "base_uri": "https://localhost:8080/"
        },
        "id": "5fYIMXbWe24k",
        "outputId": "fb1843b5-8d2c-46e2-a451-1a14b09026bc"
      }
    },
    {
      "cell_type": "code",
      "execution_count": 4,
      "source": [
        "X_eval, y_eval = load_images(directory = eval_dir, uniq_labels = sorted(os.listdir(eval_dir)))"
      ],
      "outputs": [],
      "metadata": {
        "id": "QGvPjQUTDRwA"
      }
    },
    {
      "cell_type": "code",
      "execution_count": 5,
      "source": [
        "#split data to train and test\n",
        "X_train, X_test, y_train, y_test = train_test_split(images, labels, test_size = 0.1, stratify = labels)\n",
        "\n",
        "n = len(sorted(os.listdir(train_dir)))\n",
        "train_n = len(X_train)\n",
        "test_n = len(X_test)\n",
        "# eval_n = len(X_eval)\n",
        "\n",
        "print(\"Total number of symbols: \", n)\n",
        "print(\"Number of training images: \" , train_n)\n",
        "print(\"Number of testing images: \", test_n)\n",
        "# print(\"Number of evaluation images: \", eval_n)"
      ],
      "outputs": [
        {
          "output_type": "stream",
          "name": "stdout",
          "text": [
            "Total number of symbols:  12\n",
            "Number of training images:  7894\n",
            "Number of testing images:  878\n"
          ]
        }
      ],
      "metadata": {
        "colab": {
          "base_uri": "https://localhost:8080/"
        },
        "id": "UgcM16h7DI7d",
        "outputId": "eccd05c0-e95f-4445-9d5b-ec89667638e3"
      }
    },
    {
      "cell_type": "code",
      "execution_count": 6,
      "source": [
        "X_train.shape\n",
        "\n"
      ],
      "outputs": [
        {
          "output_type": "execute_result",
          "data": {
            "text/plain": [
              "(7894, 64, 64)"
            ]
          },
          "metadata": {},
          "execution_count": 6
        }
      ],
      "metadata": {
        "colab": {
          "base_uri": "https://localhost:8080/"
        },
        "id": "hlhTUAr1DL7U",
        "outputId": "bab79bdf-b6db-46fd-de6d-6225cae5cdac"
      }
    },
    {
      "cell_type": "code",
      "execution_count": 7,
      "source": [
        "#preprocessing\n",
        "y_train = tf.keras.utils.to_categorical(y_train)\n",
        "y_test = tf.keras.utils.to_categorical(y_test)\n",
        "y_eval = tf.keras.utils.to_categorical(y_eval)\n",
        "\n",
        "X_train = X_train.astype('float32')/255.0\n",
        "X_test = X_test.astype('float32')/255.0\n",
        "X_eval = X_eval.astype('float32')/255.0\n",
        "X_train = X_train.reshape(X_train.shape[0], X_train.shape[1], X_train.shape[2], 1)\n",
        "X_test = X_test.reshape(X_test.shape[0], X_test.shape[1], X_test.shape[2], 1)"
      ],
      "outputs": [],
      "metadata": {
        "id": "JHPPi9cLEfvh"
      }
    },
    {
      "cell_type": "code",
      "execution_count": 8,
      "source": [
        "from keras.layers import Conv2D, MaxPooling2D\n",
        "from keras.layers import Conv2D, Dense, Dropout, Flatten\n",
        "from keras.layers import Flatten, Dense\n",
        "from keras.models import Sequential\n",
        "#build the model\n",
        "model = Sequential()\n",
        "model.add(Conv2D(filters = 64, kernel_size = 5, padding = 'same', activation = 'relu', input_shape = (64, 64, 1)))\n",
        "model.add(Conv2D(filters = 64, kernel_size = 5, padding = 'same', activation = 'relu'))\n",
        "model.add(MaxPooling2D(pool_size = (4, 4)))\n",
        "model.add(Dropout(0.5))\n",
        "model.add(Conv2D(filters = 128 , kernel_size = 5, padding = 'same', activation = 'relu'))\n",
        "model.add(Conv2D(filters = 128 , kernel_size = 5, padding = 'same', activation = 'relu'))\n",
        "model.add(MaxPooling2D(pool_size = (4, 4)))\n",
        "model.add(Dropout(0.5))\n",
        "model.add(Conv2D(filters = 256 , kernel_size = 5, padding = 'same', activation = 'relu'))\n",
        "model.add(Dropout(0.5))\n",
        "model.add(Flatten())\n",
        "model.add(Dense(12, activation='softmax'))#12 classes"
      ],
      "outputs": [],
      "metadata": {
        "id": "xi37ENTKEf5V"
      }
    },
    {
      "cell_type": "code",
      "execution_count": 9,
      "source": [
        "model.summary()"
      ],
      "outputs": [
        {
          "output_type": "stream",
          "name": "stdout",
          "text": [
            "Model: \"sequential\"\n",
            "_________________________________________________________________\n",
            "Layer (type)                 Output Shape              Param #   \n",
            "=================================================================\n",
            "conv2d (Conv2D)              (None, 64, 64, 64)        1664      \n",
            "_________________________________________________________________\n",
            "conv2d_1 (Conv2D)            (None, 64, 64, 64)        102464    \n",
            "_________________________________________________________________\n",
            "max_pooling2d (MaxPooling2D) (None, 16, 16, 64)        0         \n",
            "_________________________________________________________________\n",
            "dropout (Dropout)            (None, 16, 16, 64)        0         \n",
            "_________________________________________________________________\n",
            "conv2d_2 (Conv2D)            (None, 16, 16, 128)       204928    \n",
            "_________________________________________________________________\n",
            "conv2d_3 (Conv2D)            (None, 16, 16, 128)       409728    \n",
            "_________________________________________________________________\n",
            "max_pooling2d_1 (MaxPooling2 (None, 4, 4, 128)         0         \n",
            "_________________________________________________________________\n",
            "dropout_1 (Dropout)          (None, 4, 4, 128)         0         \n",
            "_________________________________________________________________\n",
            "conv2d_4 (Conv2D)            (None, 4, 4, 256)         819456    \n",
            "_________________________________________________________________\n",
            "dropout_2 (Dropout)          (None, 4, 4, 256)         0         \n",
            "_________________________________________________________________\n",
            "flatten (Flatten)            (None, 4096)              0         \n",
            "_________________________________________________________________\n",
            "dense (Dense)                (None, 12)                49164     \n",
            "=================================================================\n",
            "Total params: 1,587,404\n",
            "Trainable params: 1,587,404\n",
            "Non-trainable params: 0\n",
            "_________________________________________________________________\n"
          ]
        }
      ],
      "metadata": {
        "colab": {
          "base_uri": "https://localhost:8080/"
        },
        "id": "LAuDGNEtEf8H",
        "outputId": "02d83c0c-1e8b-49f8-ff68-670a3c25d03b"
      }
    },
    {
      "cell_type": "code",
      "execution_count": 19,
      "source": [
        "#compil the model\n",
        "model.compile(optimizer = 'rmsprop', loss = 'categorical_crossentropy', metrics = ['accuracy'])\n",
        "#fit the model\n",
        "hist = model.fit(X_train, y_train, epochs = 5, batch_size = 64)"
      ],
      "outputs": [
        {
          "output_type": "stream",
          "name": "stdout",
          "text": [
            "Epoch 1/5\n",
            "124/124 [==============================] - 11s 77ms/step - loss: 0.2079 - accuracy: 0.9394\n",
            "Epoch 2/5\n",
            "124/124 [==============================] - 10s 79ms/step - loss: 0.1170 - accuracy: 0.9615\n",
            "Epoch 3/5\n",
            "124/124 [==============================] - 10s 77ms/step - loss: 0.0973 - accuracy: 0.9688\n",
            "Epoch 4/5\n",
            "124/124 [==============================] - 10s 77ms/step - loss: 0.1011 - accuracy: 0.9700\n",
            "Epoch 5/5\n",
            "124/124 [==============================] - 10s 80ms/step - loss: 0.0756 - accuracy: 0.9777\n"
          ]
        }
      ],
      "metadata": {
        "colab": {
          "base_uri": "https://localhost:8080/"
        },
        "id": "9VT0h3LxEf_O",
        "outputId": "cc89dc94-229d-4e43-92a3-8b1ab7e9ab2b"
      }
    },
    {
      "cell_type": "code",
      "execution_count": 20,
      "source": [
        "#save model\n",
        "model.save('ASLGray.model')\n",
        "\n",
        "#load model\n",
        "model=tf.keras.models.load_model('ASLGray.model')"
      ],
      "outputs": [
        {
          "output_type": "stream",
          "name": "stdout",
          "text": [
            "INFO:tensorflow:Assets written to: ASLGray.model/assets\n"
          ]
        }
      ],
      "metadata": {
        "colab": {
          "base_uri": "https://localhost:8080/"
        },
        "id": "QNhw_2Y6EgBr",
        "outputId": "c023f63d-2d60-4c1e-97ec-b77c5682bae0"
      }
    },
    {
      "cell_type": "code",
      "execution_count": 21,
      "source": [
        "#Download model from kaggle\n",
        "from IPython.display import FileLinks\n",
        "FileLinks(r'ASLGray.model')"
      ],
      "outputs": [
        {
          "output_type": "execute_result",
          "data": {
            "text/html": [
              "ASLGray.model/<br>\n",
              "&nbsp;&nbsp;<a href='ASLGray.model/keras_metadata.pb' target='_blank'>keras_metadata.pb</a><br>\n",
              "&nbsp;&nbsp;<a href='ASLGray.model/saved_model.pb' target='_blank'>saved_model.pb</a><br>\n",
              "ASLGray.model/variables/<br>\n",
              "&nbsp;&nbsp;<a href='ASLGray.model/variables/variables.data-00000-of-00001' target='_blank'>variables.data-00000-of-00001</a><br>\n",
              "&nbsp;&nbsp;<a href='ASLGray.model/variables/variables.index' target='_blank'>variables.index</a><br>"
            ],
            "text/plain": [
              "ASLGray.model/\n",
              "  keras_metadata.pb\n",
              "  saved_model.pb\n",
              "ASLGray.model/variables/\n",
              "  variables.data-00000-of-00001\n",
              "  variables.index"
            ]
          },
          "metadata": {},
          "execution_count": 21
        }
      ],
      "metadata": {
        "colab": {
          "base_uri": "https://localhost:8080/",
          "height": 119
        },
        "id": "SdQd1a6SEgEK",
        "outputId": "1c72dc72-28ae-47a2-8221-7fd4c510df05"
      }
    },
    {
      "cell_type": "code",
      "execution_count": 26,
      "source": [
        "!zip -r saved_model.zip 'ASLGray.model'"
      ],
      "outputs": [
        {
          "output_type": "stream",
          "name": "stdout",
          "text": [
            "  adding: ASLGray.model/ (stored 0%)\n",
            "  adding: ASLGray.model/assets/ (stored 0%)\n",
            "  adding: ASLGray.model/keras_metadata.pb (deflated 92%)\n",
            "  adding: ASLGray.model/saved_model.pb (deflated 89%)\n",
            "  adding: ASLGray.model/variables/ (stored 0%)\n",
            "  adding: ASLGray.model/variables/variables.data-00000-of-00001 (deflated 19%)\n",
            "  adding: ASLGray.model/variables/variables.index (deflated 67%)\n"
          ]
        }
      ],
      "metadata": {
        "colab": {
          "base_uri": "https://localhost:8080/"
        },
        "id": "ayTAs7ebNhHT",
        "outputId": "1db55f04-652c-4e26-bda0-55a34b25bbc0"
      }
    },
    {
      "cell_type": "code",
      "execution_count": 23,
      "source": [
        "#Accuracy of model\n",
        "score = model.evaluate(x = X_test, y = y_test, verbose = 0)\n",
        "print('Accuracy for test images:', round(score[1]*100, 3), '%')"
      ],
      "outputs": [
        {
          "output_type": "stream",
          "name": "stdout",
          "text": [
            "Accuracy for test images: 99.544 %\n"
          ]
        }
      ],
      "metadata": {
        "colab": {
          "base_uri": "https://localhost:8080/"
        },
        "id": "3t4Qq-HXEgGw",
        "outputId": "fae71041-d542-4e32-e026-409d37e5b555"
      }
    },
    {
      "cell_type": "code",
      "execution_count": 24,
      "source": [
        "#prepare image to prediction\n",
        "def prepare(filepath):\n",
        "    image = cv2.imdecode(np.fromfile(filepath, dtype=np.uint8), cv2.IMREAD_UNCHANGED)\n",
        "    image = cv2.cvtColor(image, cv2.COLOR_BGR2GRAY)\n",
        "    image = cv2.resize(image, (64, 64))\n",
        "    image=image.reshape(-1, 64, 64, 1)\n",
        "    image=image.astype('float32')/255.0\n",
        "    return  image\n",
        "\n",
        "import scipy\n",
        "import tensorflow as tf\n",
        "import torch\n",
        "#use this function to predict images\n",
        "def predict(my_model, filepath):\n",
        "    prediction = model.predict([prepare(filepath)])\n",
        "    probs = scipy.special.softmax(prediction[0])\n",
        "    confidence=round((1-max(probs))*100,5) \n",
        "    category = np.argmax(prediction[0])\n",
        "    print(\"The image class is: \" + str(CATEGORIES[category]))\n",
        "    print(\"Confidence: \",confidence,\" %\")"
      ],
      "outputs": [],
      "metadata": {
        "id": "U3BE7cooEgJc"
      }
    },
    {
      "cell_type": "code",
      "execution_count": 25,
      "source": [
        "i=1\n",
        "for file in os.listdir(eval_dir+\"/B\"):\n",
        "  predict(model,eval_dir+\"/B/\"+file)\n",
        "  if i==1:\n",
        "    break\n",
        "  \n"
      ],
      "outputs": [
        {
          "output_type": "stream",
          "name": "stdout",
          "text": [
            "The image class is: B\n",
            "Confidence:  81.8313  %\n"
          ]
        }
      ],
      "metadata": {
        "colab": {
          "base_uri": "https://localhost:8080/"
        },
        "id": "L_fHFQW_EgOB",
        "outputId": "4b931c03-918c-46d5-85ee-e92a65474b64"
      }
    }
  ]
}